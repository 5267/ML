{
 "cells": [
  {
   "cell_type": "markdown",
   "metadata": {},
   "source": [
    "#### 导入数据"
   ]
  },
  {
   "cell_type": "code",
   "execution_count": 54,
   "metadata": {},
   "outputs": [
    {
     "name": "stdout",
     "output_type": "stream",
     "text": [
      "  Gender Married Dependents     Education Self_Employed  ApplicantIncome  \\\n",
      "1   Male     Yes          1      Graduate            No             4583   \n",
      "2   Male     Yes          0      Graduate           Yes             3000   \n",
      "3   Male     Yes          0  Not Graduate            No             2583   \n",
      "4   Male      No          0      Graduate            No             6000   \n",
      "5   Male     Yes          2      Graduate           Yes             5417   \n",
      "\n",
      "   CoapplicantIncome  LoanAmount  Loan_Amount_Term  Credit_History  \\\n",
      "1             1508.0       128.0             360.0             1.0   \n",
      "2                0.0        66.0             360.0             1.0   \n",
      "3             2358.0       120.0             360.0             1.0   \n",
      "4                0.0       141.0             360.0             1.0   \n",
      "5             4196.0       267.0             360.0             1.0   \n",
      "\n",
      "  Property_Area Loan_Status  \n",
      "1         Rural           N  \n",
      "2         Urban           Y  \n",
      "3         Urban           Y  \n",
      "4         Urban           Y  \n",
      "5         Urban           Y   (492, 12)\n",
      "Married\n",
      "Dependents\n",
      "Education\n",
      "Self_Employed\n",
      "ApplicantIncome\n",
      "CoapplicantIncome\n",
      "LoanAmount\n",
      "Loan_Amount_Term\n",
      "Credit_History\n",
      "Property_Area\n",
      "   Gender  Married  Dependents  Education  Self_Employed  ApplicantIncome  \\\n",
      "1       1      1.0         1.0        0.0            0.0           4583.0   \n",
      "2       1      1.0         0.0        0.0            1.0           3000.0   \n",
      "3       1      1.0         0.0        1.0            0.0           2583.0   \n",
      "4       1      0.0         0.0        0.0            0.0           6000.0   \n",
      "5       1      1.0         2.0        0.0            1.0           5417.0   \n",
      "\n",
      "   CoapplicantIncome  LoanAmount  Loan_Amount_Term  Credit_History  \\\n",
      "1             1508.0       128.0             360.0             1.0   \n",
      "2                0.0        66.0             360.0             1.0   \n",
      "3             2358.0       120.0             360.0             1.0   \n",
      "4                0.0       141.0             360.0             1.0   \n",
      "5             4196.0       267.0             360.0             1.0   \n",
      "\n",
      "   Property_Area  Loan_Status  \n",
      "1            0.0            0  \n",
      "2            2.0            1  \n",
      "3            2.0            1  \n",
      "4            2.0            1  \n",
      "5            2.0            1   (492, 12)\n"
     ]
    }
   ],
   "source": [
    "import pandas as pd\n",
    "import numpy as np\n",
    "\n",
    "#reading the dataset\n",
    "df=pd.read_csv(\"E:/2018/Quantitative/abuQuant/myproject/ML/all-data/load_prediction/train_u6lujuX_CVtuZ9i.csv\")\n",
    "\n",
    "#filling missing values\n",
    "df['Gender'].fillna('Male', inplace=True)\n",
    "df = df.dropna()\n",
    "df = df.drop('Loan_ID',axis=1)\n",
    "print(df.head(), np.shape(df))\n",
    "#数据转换：将字符型的变量数值化\n",
    "from sklearn import preprocessing\n",
    "le = preprocessing.LabelEncoder()\n",
    "for i in ['Self_Employed', 'Gender','Married','Education','Property_Area','Loan_Status']:\n",
    "    df[i] = le.fit_transform(df[i])\n",
    "df['Dependents'] = df['Dependents'].apply(lambda x: 3 if len(str(x))>1 else x)\n",
    "for col in df.columns[1:-1]:\n",
    "    print(col)\n",
    "    df[col] = df[col].apply(lambda x:float(x))\n",
    "print(df.head(), np.shape(df))"
   ]
  },
  {
   "cell_type": "markdown",
   "metadata": {},
   "source": [
    "#### 切分数据"
   ]
  },
  {
   "cell_type": "code",
   "execution_count": 55,
   "metadata": {},
   "outputs": [
    {
     "name": "stdout",
     "output_type": "stream",
     "text": [
      "(344, 11) (148, 11)\n"
     ]
    }
   ],
   "source": [
    "#split dataset into train and test\n",
    "\n",
    "from sklearn.model_selection import train_test_split\n",
    "train, test = train_test_split(df, test_size=0.3, random_state=0)\n",
    "\n",
    "x_train=train.drop('Loan_Status',axis=1)\n",
    "y_train=train['Loan_Status']\n",
    "\n",
    "x_test=test.drop('Loan_Status',axis=1)\n",
    "y_test=test['Loan_Status']\n",
    "\n",
    "print(np.shape(x_train), np.shape(x_test))\n",
    "#create dummies\n",
    "x_trainD=pd.get_dummies(x_train)\n",
    "x_testD=pd.get_dummies(x_test)"
   ]
  },
  {
   "cell_type": "markdown",
   "metadata": {},
   "source": [
    "### bagging\n",
    "#### 1、bagging meta-estimator"
   ]
  },
  {
   "cell_type": "code",
   "execution_count": 56,
   "metadata": {},
   "outputs": [
    {
     "name": "stdout",
     "output_type": "stream",
     "text": [
      "[1 1 1 1 1 0 1 0 1 1 1 0 1 1 0 1 1 1 1 1 1 0 0 1 1 1 1 1 1 1 1 1 1 1 1 1 1\n",
      " 0 1 1 1 1 0 0 1 0 0 1 0 1 1 1 1 1 1 1 1 0 1 1 1 1 0 0 1 0 1 1 0 0 0 0 1 1\n",
      " 0 1 0 1 1 1 1 1 1 1 0 1 1 1 1 1 1 0 1 1 1 0 1 1 1 1 0 1 1 1 0 1 1 0 1 1 0\n",
      " 1 0 1 1 0 0 1 1 0 1 1 0 1 1 0 1 0 1 1 1 1 1 1 1 1 0 1 0 1 1 1 1 1 0 1 1 1]\n"
     ]
    },
    {
     "data": {
      "text/plain": [
       "0.722972972972973"
      ]
     },
     "execution_count": 56,
     "metadata": {},
     "output_type": "execute_result"
    }
   ],
   "source": [
    "from sklearn.ensemble import BaggingClassifier\n",
    "from sklearn import tree\n",
    "model = BaggingClassifier(tree.DecisionTreeClassifier(random_state=1))\n",
    "model.fit(x_train, y_train)\n",
    "print(model.predict(x_test))\n",
    "model.score(x_test,y_test)"
   ]
  },
  {
   "cell_type": "code",
   "execution_count": 57,
   "metadata": {},
   "outputs": [
    {
     "data": {
      "text/plain": [
       "0.1345104895104896"
      ]
     },
     "execution_count": 57,
     "metadata": {},
     "output_type": "execute_result"
    }
   ],
   "source": [
    "from sklearn.ensemble import BaggingRegressor\n",
    "model = BaggingRegressor(tree.DecisionTreeRegressor(random_state=1))\n",
    "model.fit(x_train, y_train)\n",
    "model.score(x_test,y_test)"
   ]
  },
  {
   "cell_type": "markdown",
   "metadata": {},
   "source": [
    "#### 2、random forest"
   ]
  },
  {
   "cell_type": "code",
   "execution_count": 58,
   "metadata": {},
   "outputs": [
    {
     "name": "stderr",
     "output_type": "stream",
     "text": [
      "D:\\anaconda3\\lib\\site-packages\\sklearn\\ensemble\\forest.py:246: FutureWarning: The default value of n_estimators will change from 10 in version 0.20 to 100 in 0.22.\n",
      "  \"10 in version 0.20 to 100 in 0.22.\", FutureWarning)\n"
     ]
    },
    {
     "data": {
      "text/plain": [
       "0.75"
      ]
     },
     "execution_count": 58,
     "metadata": {},
     "output_type": "execute_result"
    }
   ],
   "source": [
    "from sklearn.ensemble import RandomForestClassifier\n",
    "model= RandomForestClassifier(random_state=1)\n",
    "model.fit(x_train, y_train)\n",
    "model.score(x_test,y_test)"
   ]
  },
  {
   "cell_type": "code",
   "execution_count": 59,
   "metadata": {},
   "outputs": [
    {
     "name": "stdout",
     "output_type": "stream",
     "text": [
      "ApplicantIncome 0.21363977426486325\n",
      "CoapplicantIncome 0.1090427447163614\n",
      "Credit_History 0.22413033268854354\n",
      "Dependents 0.04775049741183001\n",
      "Education 0.026898772034271067\n",
      "Gender 0.02837953061157672\n",
      "LoanAmount 0.19431967245420506\n",
      "Loan_Amount_Term 0.046621032038821744\n",
      "Married 0.028931727663536043\n",
      "Property_Area 0.05904900872431605\n",
      "Self_Employed 0.021236907391675153\n"
     ]
    }
   ],
   "source": [
    "#feature importance\n",
    "for i, j in sorted(zip(x_train.columns, model.feature_importances_)):\n",
    "    print(i, j)"
   ]
  },
  {
   "cell_type": "code",
   "execution_count": 60,
   "metadata": {},
   "outputs": [
    {
     "name": "stderr",
     "output_type": "stream",
     "text": [
      "D:\\anaconda3\\lib\\site-packages\\sklearn\\ensemble\\forest.py:246: FutureWarning: The default value of n_estimators will change from 10 in version 0.20 to 100 in 0.22.\n",
      "  \"10 in version 0.20 to 100 in 0.22.\", FutureWarning)\n"
     ]
    },
    {
     "data": {
      "text/plain": [
       "0.13321678321678332"
      ]
     },
     "execution_count": 60,
     "metadata": {},
     "output_type": "execute_result"
    }
   ],
   "source": [
    "from sklearn.ensemble import RandomForestRegressor\n",
    "model= RandomForestRegressor()\n",
    "model.fit(x_train, y_train)\n",
    "model.score(x_test,y_test)"
   ]
  },
  {
   "cell_type": "markdown",
   "metadata": {},
   "source": [
    "### boosting\n",
    "#### 1、AdaBoost"
   ]
  },
  {
   "cell_type": "code",
   "execution_count": 61,
   "metadata": {},
   "outputs": [
    {
     "data": {
      "text/plain": [
       "0.75"
      ]
     },
     "execution_count": 61,
     "metadata": {},
     "output_type": "execute_result"
    }
   ],
   "source": [
    "from sklearn.ensemble import AdaBoostClassifier\n",
    "model = AdaBoostClassifier(random_state=1)\n",
    "model.fit(x_train, y_train)\n",
    "model.score(x_test,y_test)"
   ]
  },
  {
   "cell_type": "code",
   "execution_count": 62,
   "metadata": {},
   "outputs": [
    {
     "data": {
      "text/plain": [
       "0.13435923721306975"
      ]
     },
     "execution_count": 62,
     "metadata": {},
     "output_type": "execute_result"
    }
   ],
   "source": [
    "from sklearn.ensemble import AdaBoostRegressor\n",
    "model = AdaBoostRegressor()\n",
    "model.fit(x_train, y_train)\n",
    "model.score(x_test,y_test)"
   ]
  },
  {
   "cell_type": "markdown",
   "metadata": {},
   "source": [
    "#### 2、GBM"
   ]
  },
  {
   "cell_type": "code",
   "execution_count": 63,
   "metadata": {},
   "outputs": [
    {
     "data": {
      "text/plain": [
       "0.8108108108108109"
      ]
     },
     "execution_count": 63,
     "metadata": {},
     "output_type": "execute_result"
    }
   ],
   "source": [
    "from sklearn.ensemble import GradientBoostingClassifier\n",
    "model= GradientBoostingClassifier(learning_rate=0.01,random_state=1)\n",
    "model.fit(x_train, y_train)\n",
    "model.score(x_test,y_test)"
   ]
  },
  {
   "cell_type": "code",
   "execution_count": 65,
   "metadata": {},
   "outputs": [
    {
     "ename": "ModuleNotFoundError",
     "evalue": "No module named 'xgboost'",
     "output_type": "error",
     "traceback": [
      "\u001b[1;31m---------------------------------------------------------------------------\u001b[0m",
      "\u001b[1;31mModuleNotFoundError\u001b[0m                       Traceback (most recent call last)",
      "\u001b[1;32m<ipython-input-65-58b16de05b4a>\u001b[0m in \u001b[0;36m<module>\u001b[1;34m\u001b[0m\n\u001b[0;32m      1\u001b[0m \u001b[1;31m#### 3、XGB\u001b[0m\u001b[1;33m\u001b[0m\u001b[1;33m\u001b[0m\u001b[1;33m\u001b[0m\u001b[0m\n\u001b[0;32m      2\u001b[0m \u001b[1;31m#分类\u001b[0m\u001b[1;33m\u001b[0m\u001b[1;33m\u001b[0m\u001b[1;33m\u001b[0m\u001b[0m\n\u001b[1;32m----> 3\u001b[1;33m \u001b[1;32mimport\u001b[0m \u001b[0mxgboost\u001b[0m \u001b[1;32mas\u001b[0m \u001b[0mxgb\u001b[0m\u001b[1;33m\u001b[0m\u001b[1;33m\u001b[0m\u001b[0m\n\u001b[0m\u001b[0;32m      4\u001b[0m \u001b[0mmodel\u001b[0m\u001b[1;33m=\u001b[0m\u001b[0mxgb\u001b[0m\u001b[1;33m.\u001b[0m\u001b[0mXGBClassifier\u001b[0m\u001b[1;33m(\u001b[0m\u001b[0mrandom_state\u001b[0m\u001b[1;33m=\u001b[0m\u001b[1;36m1\u001b[0m\u001b[1;33m,\u001b[0m\u001b[0mlearning_rate\u001b[0m\u001b[1;33m=\u001b[0m\u001b[1;36m0.01\u001b[0m\u001b[1;33m)\u001b[0m\u001b[1;33m\u001b[0m\u001b[1;33m\u001b[0m\u001b[0m\n\u001b[0;32m      5\u001b[0m \u001b[0mmodel\u001b[0m\u001b[1;33m.\u001b[0m\u001b[0mfit\u001b[0m\u001b[1;33m(\u001b[0m\u001b[0mx_train\u001b[0m\u001b[1;33m,\u001b[0m \u001b[0my_train\u001b[0m\u001b[1;33m)\u001b[0m\u001b[1;33m\u001b[0m\u001b[1;33m\u001b[0m\u001b[0m\n",
      "\u001b[1;31mModuleNotFoundError\u001b[0m: No module named 'xgboost'"
     ]
    }
   ],
   "source": [
    "#### 3、XGB\n",
    "#分类\n",
    "import xgboost as xgb\n",
    "model=xgb.XGBClassifier(random_state=1,learning_rate=0.01)\n",
    "model.fit(x_train, y_train)\n",
    "model.score(x_test,y_test)\n",
    "\n",
    "#回归\n",
    "import xgboost as xgb\n",
    "model=xgb.XGBClassifier(random_state=1,learning_rate=0.01)\n",
    "model.fit(x_train, y_train)\n",
    "model.score(x_test,y_test)"
   ]
  },
  {
   "cell_type": "markdown",
   "metadata": {},
   "source": [
    "#### 4、Light GBM"
   ]
  },
  {
   "cell_type": "code",
   "execution_count": null,
   "metadata": {},
   "outputs": [],
   "source": [
    "#分类\n",
    "import lightgbm as lgb\n",
    "train_data=lgb.Dataset(x_train,label=y_train)\n",
    "#define parameters\n",
    "params = {'learning_rate':0.001}\n",
    "model= lgb.train(params, train_data, 100) \n",
    "y_pred=model.predict(x_test)\n",
    "for i in range(0,185):\n",
    "   if y_pred[i]>=0.5: \n",
    "   y_pred[i]=1\n",
    "else: \n",
    "   y_pred[i]=0\n",
    "\n",
    "#回归\n",
    "import lightgbm as lgb\n",
    "train_data=lgb.Dataset(x_train,label=y_train)\n",
    "params = {'learning_rate':0.001}\n",
    "model= lgb.train(params, train_data, 100)\n",
    "from sklearn.metrics import mean_squared_error\n",
    "rmse=mean_squared_error(y_pred,y_test)**0.5"
   ]
  }
 ],
 "metadata": {
  "kernelspec": {
   "display_name": "Python 3",
   "language": "python",
   "name": "python3"
  },
  "language_info": {
   "codemirror_mode": {
    "name": "ipython",
    "version": 3
   },
   "file_extension": ".py",
   "mimetype": "text/x-python",
   "name": "python",
   "nbconvert_exporter": "python",
   "pygments_lexer": "ipython3",
   "version": "3.6.8"
  }
 },
 "nbformat": 4,
 "nbformat_minor": 2
}
